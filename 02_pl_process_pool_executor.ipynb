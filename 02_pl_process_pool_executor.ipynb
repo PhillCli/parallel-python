{
 "cells": [
  {
   "cell_type": "markdown",
   "metadata": {},
   "source": [
    "# 2. ProcessPoolExecutor\n",
    "\n",
    "Pula procesów przeważnie jest używana w zadaniach zależnych od CPU (CPU bounded tasks)."
   ]
  },
  {
   "cell_type": "markdown",
   "metadata": {},
   "source": [
    "# Przykład: test pierwszości\n",
    "\n",
    "Scenariusz: dla danej listy liczb sprawdź, które są liczbami pierwszymi.\n",
    "\n",
    "Dane:\n",
    " - `NUMBERS`: lista testowanych liczb.\n",
    " - `is_prime`: funkcja, która sprawdza czy dana liczba jest liczbą pierwszą.\n",
    " - `timeit`: funkcja dekorująca, mierząca czas wykonania dekorowanej funkcji."
   ]
  },
  {
   "cell_type": "code",
   "execution_count": 1,
   "metadata": {},
   "outputs": [],
   "source": [
    "import math\n",
    "import time\n",
    "\n",
    "\n",
    "NUMBERS = [\n",
    "    111111111111111,\n",
    "    111111151111111,\n",
    "    116666666666611,\n",
    "    119315717513911,\n",
    "    119755797430727,\n",
    "    122334444555553,\n",
    "    123123454321321,\n",
    "    123456136101521,\n",
    "    123456789101213,\n",
    "    123456797654321,\n",
    "    123467898764321,\n",
    "    123571113171923,\n",
    "]\n",
    "\n",
    "\n",
    "def is_prime(n):\n",
    "    if n < 2:\n",
    "        return False\n",
    "    if n == 2:\n",
    "        return True\n",
    "    if n % 2 == 0:\n",
    "        return False\n",
    "\n",
    "    sqrt_n = int(math.floor(math.sqrt(n)))\n",
    "    for i in range(3, sqrt_n + 1, 2):\n",
    "        if n % i == 0:\n",
    "            return False\n",
    "    return True\n",
    "\n",
    "\n",
    "def timeit(func):\n",
    "    \"\"\"Wraps the function for measuring its execution time.\"\"\"\n",
    "    \n",
    "    def wrapped(*args, **kwargs):\n",
    "        t_start = time.time()\n",
    "        result = func(*args, **kwargs)\n",
    "        print(f'Executed `{func.__name__}` in {(time.time() - t_start):.2f}s')\n",
    "        return result\n",
    "    \n",
    "    return wrapped"
   ]
  },
  {
   "cell_type": "markdown",
   "metadata": {},
   "source": [
    "\n",
    "### Przykładowy wynik dla liczby `88888888888889`,  wywołując funkcję  `is_prime`:"
   ]
  },
  {
   "cell_type": "code",
   "execution_count": 2,
   "metadata": {},
   "outputs": [
    {
     "data": {
      "text/plain": [
       "True"
      ]
     },
     "execution_count": 2,
     "metadata": {},
     "output_type": "execute_result"
    }
   ],
   "source": [
    "is_prime(88888888888889)"
   ]
  },
  {
   "cell_type": "markdown",
   "metadata": {},
   "source": [
    "## Typowe zadanie sekwencyjne, które wywołuje funkcję dla każdej liczby\n"
   ]
  },
  {
   "cell_type": "code",
   "execution_count": 3,
   "metadata": {},
   "outputs": [],
   "source": [
    "@timeit\n",
    "def task_sequential(numbers):\n",
    "    return [is_prime(n) for n in numbers]"
   ]
  },
  {
   "cell_type": "markdown",
   "metadata": {},
   "source": [
    "#### Test `task_sequential`:\n"
   ]
  },
  {
   "cell_type": "code",
   "execution_count": 4,
   "metadata": {},
   "outputs": [
    {
     "name": "stdout",
     "output_type": "stream",
     "text": [
      "Executed `task_sequential` in 6.55s\n"
     ]
    },
    {
     "data": {
      "text/plain": [
       "[False, True, True, True, True, True, True, True, True, True, True, True]"
      ]
     },
     "execution_count": 4,
     "metadata": {},
     "output_type": "execute_result"
    }
   ],
   "source": [
    "task_sequential(NUMBERS)"
   ]
  },
  {
   "cell_type": "markdown",
   "metadata": {},
   "source": [
    "## Zadanie\n",
    "\n",
    "Proszę stworzyć funkcję `task_parallel`, która obliczy równolegle funkcję `is_prime` dla każdej liczby w liście `NUMBERS` dla poniższych scenariuszy:\n",
    "\n",
    " - używając metody `submit` z interfejsu `ProcessPoolExecutor`.\n",
    " - używając metody `map` z interfejsu `ProcessPoolExecutor`.\n"
   ]
  },
  {
   "cell_type": "code",
   "execution_count": 14,
   "metadata": {},
   "outputs": [],
   "source": [
    "from concurrent.futures import ProcessPoolExecutor\n",
    "\n",
    "\n",
    "@timeit\n",
    "def task_parallel_map(numbers, n_workers=4):\n",
    "    with ProcessPoolExecutor(n_workers) as pool:\n",
    "        yield from pool.map(is_prime, numbers)"
   ]
  },
  {
   "cell_type": "code",
   "execution_count": 16,
   "metadata": {},
   "outputs": [
    {
     "name": "stdout",
     "output_type": "stream",
     "text": [
      "Executed `task_parallel_map` in 0.00s\n",
      "False\n",
      "True\n",
      "True\n",
      "True\n",
      "True\n",
      "True\n",
      "True\n",
      "True\n",
      "True\n",
      "True\n",
      "True\n",
      "True\n"
     ]
    }
   ],
   "source": [
    "result = task_parallel_map(NUMBERS)\n",
    "for _ in result:\n",
    "    print(_)"
   ]
  },
  {
   "cell_type": "code",
   "execution_count": 21,
   "metadata": {},
   "outputs": [],
   "source": [
    "from concurrent.futures import ProcessPoolExecutor\n",
    "\n",
    "\n",
    "@timeit\n",
    "def task_parallel_submit(numbers, n_workers=4):\n",
    "    with ProcessPoolExecutor(n_workers) as pool:\n",
    "        futures = [pool.submit(is_prime, number) for number in numbers]\n",
    "    return [future.result() for future in futures]"
   ]
  },
  {
   "cell_type": "code",
   "execution_count": 22,
   "metadata": {},
   "outputs": [
    {
     "name": "stdout",
     "output_type": "stream",
     "text": [
      "Executed `task_parallel_submit` in 1.94s\n"
     ]
    }
   ],
   "source": [
    "result = task_parallel_submit(NUMBERS)"
   ]
  },
  {
   "cell_type": "code",
   "execution_count": null,
   "metadata": {},
   "outputs": [],
   "source": []
  }
 ],
 "metadata": {
  "kernelspec": {
   "display_name": "Python 3",
   "language": "python",
   "name": "python3"
  },
  "language_info": {
   "codemirror_mode": {
    "name": "ipython",
    "version": 3
   },
   "file_extension": ".py",
   "mimetype": "text/x-python",
   "name": "python",
   "nbconvert_exporter": "python",
   "pygments_lexer": "ipython3",
   "version": "3.8.6"
  }
 },
 "nbformat": 4,
 "nbformat_minor": 4
}
