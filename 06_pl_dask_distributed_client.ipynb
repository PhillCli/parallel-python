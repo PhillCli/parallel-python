{
 "cells": [
  {
   "cell_type": "markdown",
   "metadata": {},
   "source": [
    "# 6. Dask.distributed Client"
   ]
  },
  {
   "cell_type": "markdown",
   "metadata": {},
   "source": [
    "### Scenariusz: konfiguracja obiektów `LocalCluster` i `Client`, uruchomienie zadań."
   ]
  },
  {
   "cell_type": "markdown",
   "metadata": {},
   "source": [
    "#### Stworzenie klastra i połączenie się z nim przez klienta."
   ]
  },
  {
   "cell_type": "code",
   "execution_count": 1,
   "metadata": {},
   "outputs": [
    {
     "data": {
      "text/html": [
       "<div style='background-color: #f2f2f2; display: inline-block; padding: 10px; border: 1px solid #999999;'>\n",
       "  <h3>LocalCluster</h3>\n",
       "  <ul>\n",
       "    <li><b>Dashboard: </b><a href='http://127.0.0.1:8787/status' target='_blank'>http://127.0.0.1:8787/status</a>\n",
       "  </ul>\n",
       "</div>\n"
      ],
      "text/plain": [
       "LocalCluster('tcp://127.0.0.1:43275', workers=4, threads=4, memory=5.37 GB)"
      ]
     },
     "metadata": {},
     "output_type": "display_data"
    }
   ],
   "source": [
    "from dask.distributed import LocalCluster, Client\n",
    "\n",
    "\n",
    "cluster = LocalCluster()\n",
    "cluster\n"
   ]
  },
  {
   "cell_type": "code",
   "execution_count": 2,
   "metadata": {},
   "outputs": [],
   "source": [
    "client = Client(cluster)"
   ]
  },
  {
   "cell_type": "code",
   "execution_count": 3,
   "metadata": {},
   "outputs": [
    {
     "data": {
      "text/html": [
       "<b>Future: f</b> <font color=\"gray\">status: </font><font color=\"black\">pending</font>, <font color=\"gray\">key: </font>f-27df2b3d993ecd24a816ac2f0a676a7d"
      ],
      "text/plain": [
       "<Future: pending, key: f-27df2b3d993ecd24a816ac2f0a676a7d>"
      ]
     },
     "execution_count": 3,
     "metadata": {},
     "output_type": "execute_result"
    }
   ],
   "source": [
    "import time \n",
    "\n",
    "def f(x):\n",
    "    time.sleep(1)\n",
    "    return x ** 2\n",
    "\n",
    "single_task = client.submit(f, 10)\n",
    "single_task\n"
   ]
  },
  {
   "cell_type": "code",
   "execution_count": 4,
   "metadata": {},
   "outputs": [
    {
     "data": {
      "text/plain": [
       "100"
      ]
     },
     "execution_count": 4,
     "metadata": {},
     "output_type": "execute_result"
    }
   ],
   "source": [
    "single_task.result()"
   ]
  },
  {
   "cell_type": "code",
   "execution_count": 5,
   "metadata": {},
   "outputs": [
    {
     "data": {
      "text/plain": [
       "[<Future: pending, key: f-3e00f5ea69a90d1ffc7ece1dc501f347>,\n",
       " <Future: pending, key: f-82793bb226e1e61e3c2bf62a0af0fe54>,\n",
       " <Future: pending, key: f-1da7de64370ba41ef7bcc867abca2a1e>,\n",
       " <Future: pending, key: f-2e9d5fa373f512b75a0c80378b7dcd49>,\n",
       " <Future: pending, key: f-694c3bf53b72760d547df2182e41d1f9>,\n",
       " <Future: pending, key: f-88d37944cb5d6dc0e9d7bcb75dfcecf1>,\n",
       " <Future: pending, key: f-99a08b6f0fda247163ac6cc372d16bd2>,\n",
       " <Future: pending, key: f-3d2c4b87bbf7fa34a42ad092c96735d6>,\n",
       " <Future: pending, key: f-c7ce9b0b7e149d291e33c96892443f3b>,\n",
       " <Future: pending, key: f-668ac153f7f901ac6b9b094802a73cc6>]"
      ]
     },
     "execution_count": 5,
     "metadata": {},
     "output_type": "execute_result"
    }
   ],
   "source": [
    "tasks = client.map(f, range(10))\n",
    "tasks"
   ]
  },
  {
   "cell_type": "code",
   "execution_count": null,
   "metadata": {},
   "outputs": [],
   "source": [
    "client.gather(tasks)"
   ]
  },
  {
   "cell_type": "markdown",
   "metadata": {},
   "source": [
    "## Zadanie\n",
    "\n",
    "Proszę zrównoleglić zadanie sprawdzenia pierwszości liczb z listy `NUMBERS` funkcją `is_prime` przy użyciu obiektu `Client`:\n",
    " - używając metody `submit` z interfejsu `Client`.\n",
    " - używając metody `map` i `gather` z interfejsu `Client`.\n"
   ]
  },
  {
   "cell_type": "code",
   "execution_count": 8,
   "metadata": {},
   "outputs": [],
   "source": [
    "import math\n",
    "\n",
    "\n",
    "NUMBERS = [\n",
    "    111111111111111,\n",
    "    111111151111111,\n",
    "    116666666666611,\n",
    "    119315717513911,\n",
    "    119755797430727,\n",
    "    122334444555553,\n",
    "    123123454321321,\n",
    "    123456136101521,\n",
    "    123456789101213,\n",
    "    123456797654321,\n",
    "    123467898764321,\n",
    "    123571113171923,\n",
    "]\n",
    "\n",
    "\n",
    "def is_prime(n):\n",
    "    if n < 2:\n",
    "        return False\n",
    "    if n == 2:\n",
    "        return True\n",
    "    if n % 2 == 0:\n",
    "        return False\n",
    "\n",
    "    sqrt_n = int(math.floor(math.sqrt(n)))\n",
    "    for i in range(3, sqrt_n + 1, 2):\n",
    "        if n % i == 0:\n",
    "            return False\n",
    "    return True"
   ]
  },
  {
   "cell_type": "code",
   "execution_count": 14,
   "metadata": {},
   "outputs": [],
   "source": [
    "def parallel_client(numbers):\n",
    "    tasks = client.map(is_prime, numbers)\n",
    "    return client.gather(tasks)\n",
    "\n",
    "def parallel_client_map(numbers):\n",
    "    tasks = [client.submit(is_prime, number) for number in numbers]\n",
    "    return [task.result() for task in tasks]"
   ]
  },
  {
   "cell_type": "code",
   "execution_count": 10,
   "metadata": {},
   "outputs": [
    {
     "name": "stdout",
     "output_type": "stream",
     "text": [
      "[False, True, True, True, True, True, True, True, True, True, True, True]\n"
     ]
    }
   ],
   "source": [
    "print(parallel_client(NUMBERS))"
   ]
  },
  {
   "cell_type": "code",
   "execution_count": 15,
   "metadata": {},
   "outputs": [
    {
     "name": "stdout",
     "output_type": "stream",
     "text": [
      "[False, True, True, True, True, True, True, True, True, True, True, True]\n"
     ]
    }
   ],
   "source": [
    "print(parallel_client_map(NUMBERS))"
   ]
  },
  {
   "cell_type": "code",
   "execution_count": null,
   "metadata": {},
   "outputs": [],
   "source": []
  }
 ],
 "metadata": {
  "kernelspec": {
   "display_name": "Python 3",
   "language": "python",
   "name": "python3"
  },
  "language_info": {
   "codemirror_mode": {
    "name": "ipython",
    "version": 3
   },
   "file_extension": ".py",
   "mimetype": "text/x-python",
   "name": "python",
   "nbconvert_exporter": "python",
   "pygments_lexer": "ipython3",
   "version": "3.8.6"
  }
 },
 "nbformat": 4,
 "nbformat_minor": 4
}
