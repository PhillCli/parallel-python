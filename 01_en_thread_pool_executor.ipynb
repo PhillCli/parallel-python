{
 "cells": [
  {
   "cell_type": "markdown",
   "metadata": {},
   "source": [
    "# 1. ThreadPoolExecutor\n",
    "\n",
    "Thread pool is generally used in I/O-bounded tasks.\n"
   ]
  },
  {
   "cell_type": "markdown",
   "metadata": {},
   "source": [
    "# Example: Wikipedia scraper\n",
    "Scenario: for a given list of terms (`TERMS`) get the content of the first paragraph from Wikipedia article of each term.\n",
    "\n",
    "Given:\n",
    " - `WIKI_URL`: base URL of English Wikipedia. In each task the term is appended at the end of this string (e.g. `'https://en.wikipedia.org/wiki/' + 'kite'` gives an [URL for an article about a kite](https://en.wikipedia.org/wiki/kite)).\n",
    " - `TERMS`: a list of terms to search.\n",
    " - `get_from_wiki`: a function which requests URL for a given term, checks the response status code and returns a tuple of status code and text of the first paragraph of given Wikipedia's article.\n",
    " - `get_first_paragraph`: a helper function for parsing the HTML content and extracting the first paragraph's text.\n",
    " - `timeit`: a decorator function for measuring the execution time of wrapped function."
   ]
  },
  {
   "cell_type": "code",
   "execution_count": 1,
   "metadata": {},
   "outputs": [],
   "source": [
    "from lxml import html\n",
    "import time\n",
    "from typing import *\n",
    "\n",
    "import requests\n",
    "\n",
    "WIKI_URL = 'https://en.wikipedia.org/wiki/'\n",
    "TERMS = [\n",
    "    'family',\n",
    "    'measurement',\n",
    "    'leader',\n",
    "    'atmosphere',\n",
    "    'possibility',\n",
    "    'housing',\n",
    "    'payment',\n",
    "    'sympathy',\n",
    "    'meal',\n",
    "    'description',\n",
    "    'intention',\n",
    "    'community',\n",
    "    'preference',\n",
    "    'menu',\n",
    "    'volume',\n",
    "    'brewery',\n",
    "    'abcdefgh',  # no article\n",
    "    'assumption',\n",
    "    'patience',\n",
    "    'recipe',\n",
    "]\n",
    "\n",
    "\n",
    "def timeit(func):\n",
    "    \"\"\"Wraps the function for measuring its execution time.\"\"\"\n",
    "    \n",
    "    def wrapped(*args, **kwargs):\n",
    "        t_start = time.time()\n",
    "        result = func(*args, **kwargs)\n",
    "        print(f'Executed `{func.__name__}` in {(time.time() - t_start):.2f}s')\n",
    "        return result\n",
    "    \n",
    "    return wrapped\n",
    "\n",
    "\n",
    "def get_first_paragraph(html_text: str) -> str:\n",
    "    \"\"\"\n",
    "    Returns a text from first paragraph of given html content.\n",
    "    \"\"\"\n",
    "    tree = html.fromstring(html_text)\n",
    "    paragraph = tree.find('body//p')\n",
    "    if isinstance(paragraph, html.HtmlElement):\n",
    "        return paragraph.text_content().strip()\n",
    "    return ''\n",
    "    \n",
    "\n",
    "def get_from_wiki(term: str) -> Tuple[int, str]:\n",
    "    \"\"\"\n",
    "    Returns the status code and text of first paragraph\n",
    "    from wikipedia article in form of a tuple.\n",
    "    \"\"\"\n",
    "    res = requests.get(WIKI_URL + term)\n",
    "    status = res.status_code\n",
    "    if status != 200:\n",
    "        return status, ''\n",
    "    return status, get_first_paragraph(res.content)"
   ]
  },
  {
   "cell_type": "markdown",
   "metadata": {},
   "source": [
    "\n",
    "### Sample output for the [article about data scraping](https://en.wikipedia.org/wiki/Data_scraping) with use of the  `get_from_wiki` function:\n"
   ]
  },
  {
   "cell_type": "code",
   "execution_count": 2,
   "metadata": {},
   "outputs": [
    {
     "name": "stdout",
     "output_type": "stream",
     "text": [
      "response code: 200\n",
      "text: Data scraping is a technique in which a computer program extracts data from human-readable output coming from another program.\n"
     ]
    }
   ],
   "source": [
    "code, text = get_from_wiki('data_scraping')\n",
    "print(f'response code: {code}')\n",
    "print(f'text: {text}')"
   ]
  },
  {
   "cell_type": "markdown",
   "metadata": {},
   "source": [
    "\n",
    "\n",
    "## A standard sequential task which executes function for each term:\n"
   ]
  },
  {
   "cell_type": "code",
   "execution_count": 4,
   "metadata": {},
   "outputs": [],
   "source": [
    "@timeit\n",
    "def task_sequential(terms):\n",
    "    return [get_from_wiki(term) for term in terms]"
   ]
  },
  {
   "cell_type": "markdown",
   "metadata": {},
   "source": [
    "\n",
    "\n",
    "#### Test `task_sequential`:\n"
   ]
  },
  {
   "cell_type": "code",
   "execution_count": 5,
   "metadata": {
    "scrolled": true
   },
   "outputs": [
    {
     "name": "stdout",
     "output_type": "stream",
     "text": [
      "Executed `task_sequential` in 3.90s\n",
      "family, response code: 200\n",
      "In human society, family (from Latin: familia) is a group of people related either by consanguinity (by recognized birth) or affinity (by marriage or other relationship). The purpose of families is to maintain the well-being of its members and of society. Ideally, families would offer predictability, structure, and safety as members mature and participate in the community.[1] In most societies, it is within families that children acquire socialization for life outside the family, and acts as the primary source of attachment, nurturing, and socialization for humans.[2][3] Additionally, as the basic unit for meeting the basic needs of its members, it provides a sense of boundaries for performing tasks in a safe environment, ideally builds a person into a functional adult, transmits culture, and ensures continuity of humankind with precedents of knowledge. \n",
      "\n",
      "measurement, response code: 200\n",
      "Measurement is the numerical quantitation of the attributes of an object or event, which can be used to compare with other objects or events.[1][2]  The scope and application of measurement are dependent on the context and discipline. In natural sciences and engineering, measurements do not apply to nominal properties of objects or events, which is consistent with the guidelines of the International vocabulary of metrology published by the International Bureau of Weights and Measures.[2] However, in other fields such as statistics as well as the social and behavioural sciences, measurements can have multiple levels, which would include nominal, ordinal, interval and ratio scales.[1][3] \n",
      "\n",
      "leader, response code: 200\n",
      "Leadership is both a research area and a practical skill encompassing the ability of an individual, group or organization to \"lead\", influence or guide other individuals, teams, or entire organizations. Often viewed as a contested term,[1] specialist literature debates various viewpoints, contrasting Eastern and Western approaches to leadership, and also (within the West) North American versus European approaches. \n",
      "\n",
      "atmosphere, response code: 200\n",
      "An atmosphere (from Ancient Greek ἀτμός (atmos), meaning 'vapour', and σφαῖρα (sphaira), meaning 'ball' or 'sphere'[1][2]) is a layer or a set of layers of gases surrounding a planet or other material body, that is held in place by the gravity of that body. An atmosphere is more likely to be retained if the gravity it is subject to is high and the temperature of the atmosphere is low. \n",
      "\n",
      "possibility, response code: 200\n",
      "Possibility is the condition or fact of being possible. Latin origins of the word hint at ability. \n",
      "\n",
      "housing, response code: 200\n",
      "Housing, or more generally living spaces, refers to the construction and assigned usage of houses or buildings collectively, for the purpose of sheltering people — the planning or provision delivered by an authority, with related meanings.[1] The social issue is of ensuring that members of society have a home in which to live, whether this is a house, or some other kind of dwelling, lodging, or shelter.[2] Many governments have one or more housing authorities, sometimes also called a housing ministry, or housing department. \n",
      "\n",
      "payment, response code: 200\n",
      "A payment is the voluntary tender of money or its equivalent or of things of value by one party (such as a person or company) to another in exchange for goods, or services provided by them, or to fulfill a legal obligation. The party making a payment is commonly called the payer, while the payee is the party receiving the payment. \n",
      "\n",
      "sympathy, response code: 200\n",
      "Sympathy is the perception, understanding, and reaction to the distress or need of another life form.[1] According to David Hume, this sympathetic concern is driven by a switch in viewpoint from a personal perspective to the perspective of another group or individual who is in need. David Hume explained that this is the case because \"the minds of all men are similar in their feelings and operations\" and that \"the motion of one communicates itself to the rest\" so that as affectations readily pass from one to another, they beget corresponding movements.[2] \n",
      "\n",
      "meal, response code: 200\n",
      "A meal is an eating occasion that takes place at a certain time and includes prepared food.[1][2] The names used for specific meals in English vary, depending on the speaker's culture, the time of day, or the size of the meal. \n",
      "\n",
      "description, response code: 200\n",
      "Description is the pattern of narrative development that aims to make vivid a place, object, character, or group.[1] Description is one of four rhetorical modes (also known as modes of discourse), along with exposition, argumentation, and narration.[2]  In practice it would be difficult to write literature that drew on just one of the four basic modes.[3] \n",
      "\n",
      "intention, response code: 200\n",
      "Intention is a mental state that represents a commitment to carrying out an action or actions in the future. Intention involves mental activities such as planning and forethought.[1] \n",
      "\n",
      "community, response code: 200\n",
      "A community is a social unit (a group of living things) with commonality such as norms, religion, values, customs, or identity.  Communities may share a sense of place situated in a given geographical area (e.g. a country, village, town, or neighbourhood) or in virtual space through communication platforms. Durable relations that extend beyond immediate genealogical ties also define a sense of community, important to their identity, practice, and roles in social institutions such as family, home, work, government, society, or humanity at large.[1][need quotation to verify][2] Although communities are usually small relative to personal social ties, \"community\" may also refer to large group affiliations such as national communities, international communities, and virtual communities.[3] \n",
      "\n",
      "preference, response code: 200\n",
      "In psychology, economics and philosophy, a preference is a technical term usually used in relation to choosing between alternatives. For example, someone prefers A over B if they would rather choose A than B. \n",
      "\n",
      "menu, response code: 200\n",
      "In a restaurant, the menu is a list of food and beverages offered to customers and the prices. A menu may be à la carte – which presents a list of options from which customers choose – or table d'hôte, in which case a pre-established sequence of courses is offered. Menus may be printed on paper sheets provided to the diners, put on a large poster or display board inside the establishment, displayed outside the restaurant, or put on a digital screen. Since the late 1990s, some restaurants have put their menus online. \n",
      "\n",
      "volume, response code: 200\n",
      "Volume is the quantity of three-dimensional space enclosed by a closed surface, for example, the space that a substance (solid, liquid, gas, or plasma) or shape occupies or contains.[1] Volume is often quantified numerically using the SI derived unit, the cubic metre. The volume of a container is generally understood to be the capacity of the container; i. e., the amount of fluid (gas or liquid) that the container could hold, rather than the amount of space the container itself displaces.\n",
      "Three dimensional mathematical shapes are also assigned volumes. Volumes of some simple shapes, such as regular, straight-edged, and circular shapes can be easily calculated using arithmetic formulas. Volumes of complicated shapes can be calculated with integral calculus if a formula exists for the shape's boundary. One-dimensional figures (such as lines) and two-dimensional shapes (such as squares) are assigned zero volume in the three-dimensional space. \n",
      "\n",
      "brewery, response code: 200\n",
      "A brewery or brewing company is a business that makes and sells beer. The place at which beer is commercially made is either called a brewery or a beerhouse, where distinct sets of brewing equipment are called plant.[1] The commercial brewing of beer has taken place since at least 2500 BC;[2] in ancient Mesopotamia, brewers derived social sanction and divine protection from the goddess Ninkasi.[3][4] Brewing was initially a cottage industry, with production taking place at home; by the ninth century monasteries and farms would produce beer on a larger scale, selling the excess; and by the eleventh and twelfth centuries larger, dedicated breweries with eight to ten workers were being built.[5] \n",
      "\n",
      "abcdefgh, response code: 404\n",
      " \n",
      "\n",
      "assumption, response code: 200\n",
      "Outside discussions of logic, assumption usually refers to the Assumption of Mary, a Christian tradition of the taking up of the Virgin Mary into heaven. \n",
      "\n",
      "patience, response code: 200\n",
      "Patience (or forbearance) is the ability to endure difficult circumstances. Patience may involve perseverance in the face of delay; tolerance of provocation without responding in disrespect/anger; or forbearance when under strain, especially when faced with longer-term difficulties. Patience is the level of endurance one can have before disrespect. It is also used to refer to the character trait of being steadfast. Antonyms include hastiness and impetuousness. \n",
      "\n",
      "recipe, response code: 200\n",
      "A recipe is a set of instructions that describes how to prepare or make something, especially a dish of prepared food. \n",
      "\n"
     ]
    }
   ],
   "source": [
    "result_sequential = task_sequential(TERMS)\n",
    "\n",
    "for term, (code, text) in zip(TERMS, result_sequential):\n",
    "    print(f'{term}, response code: {code}')\n",
    "    print(text, '\\n')"
   ]
  },
  {
   "cell_type": "markdown",
   "metadata": {},
   "source": [
    "## Parallel task: take 1\n",
    "Parallelized task using the `ThreadPoolExecutor` and `submit()` methods. Returns a list of results."
   ]
  },
  {
   "cell_type": "code",
   "execution_count": 6,
   "metadata": {},
   "outputs": [],
   "source": [
    "from concurrent.futures import ThreadPoolExecutor\n",
    "\n",
    "\n",
    "@timeit\n",
    "def task_parallel(terms, n_workers=10):\n",
    "    with ThreadPoolExecutor(n_workers) as pool:\n",
    "        futures = [pool.submit(get_from_wiki, term) for term in terms]\n",
    "    return [future.result() for future in futures]"
   ]
  },
  {
   "cell_type": "markdown",
   "metadata": {},
   "source": [
    "#### Test `task_parallel`:\n"
   ]
  },
  {
   "cell_type": "code",
   "execution_count": 7,
   "metadata": {},
   "outputs": [
    {
     "name": "stdout",
     "output_type": "stream",
     "text": [
      "Executed `task_parallel` in 1.03s\n"
     ]
    },
    {
     "data": {
      "text/plain": [
       "True"
      ]
     },
     "execution_count": 7,
     "metadata": {},
     "output_type": "execute_result"
    }
   ],
   "source": [
    "result_parallel = task_parallel(TERMS)\n",
    "result_sequential == result_parallel  # same result?\n"
   ]
  },
  {
   "cell_type": "markdown",
   "metadata": {},
   "source": [
    "## Parallel task: take 2\n",
    "Parallelized task using the `ThreadPoolExecutor` and `map()` method. Returns a list of results."
   ]
  },
  {
   "cell_type": "code",
   "execution_count": 8,
   "metadata": {},
   "outputs": [],
   "source": [
    "@timeit\n",
    "def task_parallel_2(terms, n_workers=10):\n",
    "    with ThreadPoolExecutor(n_workers) as pool:\n",
    "        result = pool.map(get_from_wiki, terms)\n",
    "    return list(result)"
   ]
  },
  {
   "cell_type": "code",
   "execution_count": 9,
   "metadata": {},
   "outputs": [
    {
     "name": "stdout",
     "output_type": "stream",
     "text": [
      "Executed `task_parallel_2` in 1.40s\n",
      "Executed `task_parallel_2` in 1.36s\n"
     ]
    }
   ],
   "source": [
    "longer_list = TERMS * 3\n",
    "_ = task_parallel_2(longer_list)\n",
    "_ = task_parallel_2(longer_list, n_workers=30)"
   ]
  },
  {
   "cell_type": "markdown",
   "metadata": {},
   "source": [
    "## Parallel task: take 3\n",
    "Parallelized task using the `ThreadPoolExecutor` and `map()` method. Lazy approach."
   ]
  },
  {
   "cell_type": "code",
   "execution_count": 10,
   "metadata": {},
   "outputs": [],
   "source": [
    "@timeit\n",
    "def task_parallel_3(terms, n_workers=10):\n",
    "    with ThreadPoolExecutor(n_workers) as pool:\n",
    "        yield from pool.map(get_from_wiki, terms)"
   ]
  },
  {
   "cell_type": "code",
   "execution_count": 11,
   "metadata": {},
   "outputs": [
    {
     "name": "stdout",
     "output_type": "stream",
     "text": [
      "Executed `task_parallel_3` in 0.00s\n",
      "200\n",
      "200\n",
      "200\n",
      "200\n",
      "200\n",
      "200\n",
      "200\n",
      "200\n",
      "200\n",
      "200\n",
      "200\n",
      "200\n",
      "200\n",
      "200\n",
      "200\n",
      "200\n",
      "404\n",
      "200\n",
      "200\n",
      "200\n"
     ]
    }
   ],
   "source": [
    "res = task_parallel_3(TERMS, n_workers=2)\n",
    "res\n",
    "time.sleep(1)\n",
    "for code, text in res:\n",
    "    print(code)"
   ]
  },
  {
   "cell_type": "code",
   "execution_count": null,
   "metadata": {},
   "outputs": [],
   "source": []
  }
 ],
 "metadata": {
  "kernelspec": {
   "display_name": "Python 3",
   "language": "python",
   "name": "python3"
  },
  "language_info": {
   "codemirror_mode": {
    "name": "ipython",
    "version": 3
   },
   "file_extension": ".py",
   "mimetype": "text/x-python",
   "name": "python",
   "nbconvert_exporter": "python",
   "pygments_lexer": "ipython3",
   "version": "3.8.6"
  }
 },
 "nbformat": 4,
 "nbformat_minor": 4
}
